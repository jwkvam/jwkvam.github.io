{
 "metadata": {
  "name": ""
 },
 "nbformat": 3,
 "nbformat_minor": 0,
 "worksheets": [
  {
   "cells": [
    {
     "cell_type": "markdown",
     "metadata": {},
     "source": [
      "Can you buy wins in baseball?"
     ]
    },
    {
     "cell_type": "markdown",
     "metadata": {},
     "source": [
      "*This blog post was written entirely in the IPython Notebook.  The full notebook can be downloaded\n",
      "[here](http://jwkvam.github.io/downloads/notebooks/baseball_payrolls.ipynb),\n",
      "or viewed statically\n",
      "[here](http://nbviewer.ipython.org/url/jwkvam.github.io/downloads/notebooks/baseball_payrolls.ipynb).*"
     ]
    }
   ],
   "metadata": {}
  }
 ]
}